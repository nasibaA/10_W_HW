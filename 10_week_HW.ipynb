{
 "cells": [
  {
   "cell_type": "markdown",
   "id": "a4b0993d",
   "metadata": {},
   "source": [
    "Please be sure your functions work for vectors with a size of three and matrices that are 3x3. Bonus points if you can further generalize them for larger vectors and matrices.\n",
    "\n",
    "1. Explain the dot product and cross product in your own words in markdown. Use LaTeX to properly show the equations.\n",
    "\n"
   ]
  },
  {
   "cell_type": "markdown",
   "id": "4a9201eb",
   "metadata": {},
   "source": [
    "Dot Product is a fundamental way we can combine two vectors. Intuitively, it tell us something about how much two vectors point in the same direction. dot product represent with \"$ \\bullet $\" opperation between the two vectors(pronounced \"a dot b\"): And dot product give us the scaler number (not a new vector numbers ).\n",
    "We can calculate Dot Procudt in two ways.\n",
    "\n",
    "  $$ 1) \\ \\vec a \\bullet \\vec b = \\parallel a\\parallel \\ast \\parallel b\\parallel * \\cos(0) $$\n",
    " \n",
    " \n",
    "1) if  we break this down factor by factor the first two are $ \\parallel \\vec a\\parallel   and   \\parallel \\vec b\\parallel $. These are the magnitudes(size) of $\\vec a \\  and   \\  \\vec b $, so the dot product takes into account how long vectors are.To calculating $ \\parallel \\vec a\\parallel \\  and \\  \\parallel \\vec b\\parallel $ we need get all $ \\vec a \\ and \\ \\vec b $ vector's values and find two square roots and cosine.\n",
    "The final factor is $ \\cos(0)$, were 0 is the angle between $ \\vec a \\ and \\  \\vec b$. This tell us the dot product has to do with direction. \n",
    "\n",
    " \n",
    "$$ 2) \\ \\vec a \\bullet \\vec b = a_x\\ast b_x + a_y\\ast b_y $$ \n",
    "\n",
    "2) In this formula we need just corresponding components and then add.\n",
    "\n",
    "compere two formulas second formula is an easier way to calculate Dot Product.\n",
    "if between two vectors angle is = 0 it means both vector's length is in same directions the dot product will be = 1. if angle between them 90 dot product is = 0 and vectors piont in opposite diraction the dot product will be  = -1 \n",
    "so we're in real world would we care about any of this. one simple example would be solor panels if you draw a unit normal vector that is coming directly off a solor panel and another pointing directly at the Sun how similar those vectors are or their dot product would be a factor in how much solar energy is absorbed since the more the solar panels are directly pointing at the Sun the more energy you get.\n",
    "Dot product also used when it comes to anumated movies spacifically with the lighting and shadows. When you watch modern animated movies all the shadows that you see aren't manually input by the animators instead the physics of light is programmed into the software then they just need a light source and scene is lit according to those laws and equations.\n",
    "\n",
    "Cross product is binary operation on two vectors in three dimensional space.it again results in avector which is perpendicular to both the vectors.cross product of two vectrors is calculated by right hand rule.\n",
    "right hand rule\n",
    "\n",
    "\n",
    "we can calculate  the Cross Product in two ways: \n",
    " $$ 1) \\vec a \\ * \\ \\vec b = \\parallel \\vec a \\parallel \\ \\parallel \\vec b \\parallel \\ \\sin(0)n $$\n",
    " \n",
    "1) this formula tell us $ \\parallel a \\parallel  $ and $\\parallel b \\parallel $ are  the magnitude(length) of vectors a and b.$\\sin(0)$ is the angle between a and b. n is the unit vector at right angles to both a and b.So the length is: the length of a times the length of b times the sine of the angle between a and b, then we multiply by the vector n so it heads in the correct direction (at rigfht angles to both a and b).\n",
    "\n",
    "\n",
    "second way to calculated the Cross Product is with this formula. \n",
    " a =(a_x,y,z)\n",
    " b = (x,y,z)\n",
    " \n",
    "   $$ \\bullet \\  c_x = a_yb_z - a_zb_y $$\n",
    "   \n",
    " \n",
    "   $$ \\bullet \\ c_y = a_zb_x - a_xb_z $$\n",
    "   \n",
    "   $$ \\bullet \\ c_z = a_xb_y - a_yb_x $$   \n",
    "       \n",
    "we just need to put vector coordenate in to the formula and we will get three coordinates for resulting cross product vector.   \n"
   ]
  },
  {
   "cell_type": "markdown",
   "id": "200252d0",
   "metadata": {},
   "source": [
    "2. Write a function angle_between(v1, v2) where v1 and v2 are two vectors that are passed in, and the angle between them is calcul\n"
   ]
  },
  {
   "cell_type": "code",
   "execution_count": 56,
   "id": "747cb8d9",
   "metadata": {},
   "outputs": [
    {
     "data": {
      "text/plain": [
       "15.26"
      ]
     },
     "execution_count": 56,
     "metadata": {},
     "output_type": "execute_result"
    }
   ],
   "source": [
    "import math\n",
    "def angle_between(v1,v2):\n",
    "        dot_pr = 0\n",
    "        length_v1 = 0\n",
    "        length_v2 = 0\n",
    "        sum_of_squares_v1 = 0\n",
    "        sum_of_squares_v2 = 0\n",
    "        cos = 0\n",
    "        angle = 0\n",
    "        try:\n",
    "            for i in range(len(v1)) and range(len(v2)):\n",
    "                dot_pr = dot_pr + (v1[i] * v2[i])\n",
    "                sum_of_squares_v1 =  sum_of_squares_v1 + (v1[i]**2)\n",
    "                sum_of_squares_v2 =  sum_of_squares_v2 + (v2[i]**2)\n",
    "            length_v1 = math.sqrt(sum_of_squares_v1)\n",
    "            length_v2 = math.sqrt(sum_of_squares_v2)\n",
    "            cos = dot_pr / (length_v1 * length_v2)\n",
    "            angle = round(math.degrees(math.acos(cos)),2)\n",
    "        except IndexError:\n",
    "            print(\"vectors must be same size\")\n",
    "        except Exception as e:\n",
    "            return e\n",
    "        return angle\n",
    "    \n",
    "angle_between([8,6],[7,9])    \n"
   ]
  },
  {
   "cell_type": "markdown",
   "id": "09ccede6",
   "metadata": {},
   "source": [
    "3. Write a function called row_dot(A, r1, r2) which takes an input matrix called A, one row number identified by r1, and another row number identified by r2 and returns the dot product of the r1 and r2 rows (indexing starts at 0).\n"
   ]
  },
  {
   "cell_type": "code",
   "execution_count": 83,
   "id": "8b3fa0df",
   "metadata": {},
   "outputs": [
    {
     "data": {
      "text/plain": [
       "array([[4]])"
      ]
     },
     "execution_count": 83,
     "metadata": {},
     "output_type": "execute_result"
    }
   ],
   "source": [
    "import numpy as np\n",
    "\n",
    "def row_dot(A):\n",
    "    \n",
    "    dot_pr_rows = np.dot(A[[0]], A[[1]].T)\n",
    "\n",
    "    return dot_pr_rows\n",
    "\n",
    "\n",
    "A = np.array([[1,1,1,1],\n",
    "    [1,1,1,1]])\n",
    "\n",
    "\n",
    "row_dot(A)"
   ]
  },
  {
   "cell_type": "markdown",
   "id": "da2d87b8",
   "metadata": {},
   "source": [
    "\n",
    "4. Write a function matrix_division(m1, m2) that takes in two matrices, m1 and m2, and returns the result. What is the trick with matrix division?"
   ]
  },
  {
   "cell_type": "code",
   "execution_count": 106,
   "id": "a6b9c582",
   "metadata": {},
   "outputs": [
    {
     "data": {
      "text/plain": [
       "array([[ 1.35714286, -0.21428571],\n",
       "       [ 1.85714286, -0.21428571]])"
      ]
     },
     "execution_count": 106,
     "metadata": {},
     "output_type": "execute_result"
    }
   ],
   "source": [
    "from numpy.linalg import inv\n",
    "\n",
    "\n",
    "def matrix_division(m1,m2):\n",
    "\n",
    "    return np.dot(m1,inv(m2))\n",
    "\n",
    "\n",
    " \n",
    "m1 = np.array([[1,5],[2,7]])\n",
    "m2 = np.array([[2,4],[8,2]])\n",
    "matrix_division(m1,m2)\n",
    "\n",
    "#Trick with matrix division is to multiply one matrix by the inverse of the other matrix since we cannot do a direct division."
   ]
  },
  {
   "cell_type": "markdown",
   "id": "1aa1e916",
   "metadata": {},
   "source": [
    "5. Write a function is_orthogonal(v1,v2, tol), where v1 and v2 are column vectors of the same size and tol is a scalar value strictly larger than 0. The output should be 1 if the angle between v1 and v2 is within tol of π/2; that is, |π/2−θ|<tol|π/2−θ|<tol, and 0 otherwise. You may assume that v1 and v2 are column vectors of the same size, and that tol is a positive scalar."
   ]
  },
  {
   "cell_type": "code",
   "execution_count": 52,
   "id": "56305767",
   "metadata": {},
   "outputs": [
    {
     "name": "stdout",
     "output_type": "stream",
     "text": [
      "[[0.97992471]]\n"
     ]
    }
   ],
   "source": [
    "from numpy.linalg import norm\n",
    "import numpy as np\n",
    "from numpy import arccos, dot\n",
    "\n",
    "v = np.array([[10, 9, 3]])\n",
    "w = np.array([[2, 5, 12]])\n",
    "theta = \\\n",
    "    arccos(dot(v, w.T)/(norm(v)*norm(w)))\n",
    "print(theta)"
   ]
  },
  {
   "cell_type": "code",
   "execution_count": null,
   "id": "af307ee7",
   "metadata": {},
   "outputs": [],
   "source": []
  }
 ],
 "metadata": {
  "kernelspec": {
   "display_name": "Python 3 (ipykernel)",
   "language": "python",
   "name": "python3"
  },
  "language_info": {
   "codemirror_mode": {
    "name": "ipython",
    "version": 3
   },
   "file_extension": ".py",
   "mimetype": "text/x-python",
   "name": "python",
   "nbconvert_exporter": "python",
   "pygments_lexer": "ipython3",
   "version": "3.8.5"
  }
 },
 "nbformat": 4,
 "nbformat_minor": 5
}
